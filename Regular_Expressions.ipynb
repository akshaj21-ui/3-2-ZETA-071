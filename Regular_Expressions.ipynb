{
  "nbformat": 4,
  "nbformat_minor": 0,
  "metadata": {
    "colab": {
      "provenance": []
    },
    "kernelspec": {
      "name": "python3",
      "display_name": "Python 3"
    },
    "language_info": {
      "name": "python"
    }
  },
  "cells": [
    {
      "cell_type": "code",
      "execution_count": 1,
      "metadata": {
        "colab": {
          "base_uri": "https://localhost:8080/"
        },
        "id": "8NPLzHwbz00O",
        "outputId": "7cc7d770-1f9e-4f8d-8265-c3156eeaf44d"
      },
      "outputs": [
        {
          "output_type": "stream",
          "name": "stdout",
          "text": [
            "i am going to mlr college\rto study\n"
          ]
        }
      ],
      "source": [
        "print(\"i am going to mlr college\\rto study\")"
      ]
    },
    {
      "cell_type": "code",
      "source": [
        "#@title re.match()"
      ],
      "metadata": {
        "cellView": "form",
        "id": "u0Y6LsbRDuER"
      },
      "execution_count": 4,
      "outputs": []
    },
    {
      "cell_type": "code",
      "source": [
        "import re\n",
        "pattern=r'\\d+'\n",
        "string=\"007 james bond wants to learn python\"\n",
        "matching=re.match(pattern,string)\n",
        "matching.group()"
      ],
      "metadata": {
        "colab": {
          "base_uri": "https://localhost:8080/",
          "height": 36
        },
        "id": "svPZ9giJ6iTw",
        "outputId": "f4abda79-d4f3-4ddc-92fb-cc5a0d9fc0eb"
      },
      "execution_count": 3,
      "outputs": [
        {
          "output_type": "execute_result",
          "data": {
            "text/plain": [
              "'007'"
            ],
            "application/vnd.google.colaboratory.intrinsic+json": {
              "type": "string"
            }
          },
          "metadata": {},
          "execution_count": 3
        }
      ]
    },
    {
      "cell_type": "code",
      "source": [
        "#@title re.search()"
      ],
      "metadata": {
        "cellView": "form",
        "id": "medipLSWEiK9"
      },
      "execution_count": null,
      "outputs": []
    },
    {
      "cell_type": "code",
      "source": [
        "import re\n",
        "pattern=r'\\d+'\n",
        "string=\"james bond 007 wants 008 to learn python\"\n",
        "searching=re.search(pattern,string)\n",
        "searching.group()"
      ],
      "metadata": {
        "colab": {
          "base_uri": "https://localhost:8080/",
          "height": 36
        },
        "id": "Y7uGUrJ3Ddg8",
        "outputId": "4c979b3b-5ba1-4583-95f0-09d311ed2dcd"
      },
      "execution_count": 8,
      "outputs": [
        {
          "output_type": "execute_result",
          "data": {
            "text/plain": [
              "'007'"
            ],
            "application/vnd.google.colaboratory.intrinsic+json": {
              "type": "string"
            }
          },
          "metadata": {},
          "execution_count": 8
        }
      ]
    },
    {
      "cell_type": "code",
      "source": [
        "#@title re.findall()"
      ],
      "metadata": {
        "cellView": "form",
        "id": "j4c-eaGhGee9"
      },
      "execution_count": null,
      "outputs": []
    },
    {
      "cell_type": "code",
      "source": [
        "import re\n",
        "pattern=r'\\d+'\n",
        "string=\"james bond 007 wants 008 to learn23 python\"\n",
        "findall1=re.findall(pattern,string)\n",
        "findall"
      ],
      "metadata": {
        "colab": {
          "base_uri": "https://localhost:8080/"
        },
        "id": "O3GebFV9EMGr",
        "outputId": "6eed6e4c-4f53-4bf7-b927-294382442639"
      },
      "execution_count": 11,
      "outputs": [
        {
          "output_type": "execute_result",
          "data": {
            "text/plain": [
              "['007', '008', '23']"
            ]
          },
          "metadata": {},
          "execution_count": 11
        }
      ]
    },
    {
      "cell_type": "code",
      "source": [
        "#@title re.sub()"
      ],
      "metadata": {
        "cellView": "form",
        "id": "ICS_t9q6Hsq_"
      },
      "execution_count": null,
      "outputs": []
    },
    {
      "cell_type": "code",
      "source": [
        "import re\n",
        "pattern=r'\\d+'\n",
        "string=\"james bond 007 wants 008 to learn23 python\"\n",
        "searching=re.sub(pattern,\"*\",string)\n",
        "searching"
      ],
      "metadata": {
        "colab": {
          "base_uri": "https://localhost:8080/",
          "height": 36
        },
        "id": "GaggVInOF--6",
        "outputId": "24d9d877-82f0-4f57-c998-7006ad1bad8c"
      },
      "execution_count": 13,
      "outputs": [
        {
          "output_type": "execute_result",
          "data": {
            "text/plain": [
              "'james bond * wants * to learn* python'"
            ],
            "application/vnd.google.colaboratory.intrinsic+json": {
              "type": "string"
            }
          },
          "metadata": {},
          "execution_count": 13
        }
      ]
    },
    {
      "cell_type": "code",
      "source": [
        "import re\n",
        "pattern=r'\\d'\n",
        "string=\"james bond 007 wants 008 to learn23 python\"\n",
        "searching=re.sub(pattern,\"*\",string)\n",
        "searching"
      ],
      "metadata": {
        "colab": {
          "base_uri": "https://localhost:8080/",
          "height": 36
        },
        "id": "P4wPelI2HZc0",
        "outputId": "5f546bd2-fdcc-4af0-e0ed-f7517d0c3730"
      },
      "execution_count": 15,
      "outputs": [
        {
          "output_type": "execute_result",
          "data": {
            "text/plain": [
              "'james bond *** wants *** to learn** python'"
            ],
            "application/vnd.google.colaboratory.intrinsic+json": {
              "type": "string"
            }
          },
          "metadata": {},
          "execution_count": 15
        }
      ]
    },
    {
      "cell_type": "code",
      "source": [],
      "metadata": {
        "id": "B3NUPM5YHmoI"
      },
      "execution_count": null,
      "outputs": []
    }
  ]
}